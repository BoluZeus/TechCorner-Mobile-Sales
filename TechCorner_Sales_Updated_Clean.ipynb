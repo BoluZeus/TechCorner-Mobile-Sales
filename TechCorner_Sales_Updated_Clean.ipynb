{
 "cells": [
  {
   "cell_type": "markdown",
   "id": "c03ba530",
   "metadata": {},
   "source": [
    "# TechCorner Mobile Sales Analysis\n",
    "\n",
    "\n",
    "This project analyzes 10 months of mobile sales data from a retail shop in Bangladesh. It aims to uncover customer behavior, sales trends, and the effectiveness of marketing strategies. The dataset includes customer demographics, buying patterns, Facebook reach, and retention insights."
   ]
  },
  {
   "cell_type": "markdown",
   "id": "9ad51f12",
   "metadata": {},
   "source": [
    "## Table of Contents\n",
    "\n",
    "- [Project Overview](#project-overview)  \n",
    "- [Tools & Technologies](#tools--technologies)  \n",
    "- [Data Cleaning & Preparation](#data-cleaning--preparation)  \n",
    "- [Exploratory Data Analysis](#exploratory-data-analysis)  \n",
    "  - Monthly Sales Trend  \n",
    "  - Customer Location Distribution  \n",
    "  - Age & Gender Analysis  \n",
    "  - Mobile Model Popularity  \n",
    "  - Pricing Trends  \n",
    "  - Marketing Effectiveness  \n",
    "  - Returning Customers  \n",
    "- [Conclusion](#conclusion)"
   ]
  },
  {
   "cell_type": "markdown",
   "id": "0858716b",
   "metadata": {},
   "source": [
    "# TechCorner Sales Update"
   ]
  },
  {
   "cell_type": "markdown",
   "id": "65a29ada",
   "metadata": {},
   "source": [
    "## Loading Dataset and Importing necessary Libraries"
   ]
  },
  {
   "cell_type": "code",
   "execution_count": null,
   "id": "519abced",
   "metadata": {},
   "outputs": [],
   "source": [
    "# Import necessary libraries\n",
    "import pandas as pd\n",
    "import numpy as np\n",
    "import matplotlib.pyplot as plt\n",
    "import seaborn as sns"
   ]
  },
  {
   "cell_type": "code",
   "execution_count": null,
   "id": "85a70e55",
   "metadata": {},
   "outputs": [],
   "source": [
    "# Load dataset\n",
    "file_path = \"TechCorner_Sales_update.csv\"\n",
    "df = pd.read_csv(file_path)\n",
    "\n",
    "# Display first few rows\n",
    "df.head()"
   ]
  },
  {
   "cell_type": "code",
   "execution_count": null,
   "id": "5118d5cf",
   "metadata": {},
   "outputs": [],
   "source": [
    "# Check for missing values\n",
    "print(df.isnull().sum())\n",
    "\n",
    "# Convert 'Sell Price' & 'Age' to numeric\n",
    "df[\"Sell Price\"] = pd.to_numeric(df[\"Sell Price\"], errors=\"coerce\")\n",
    "df[\"Age\"] = pd.to_numeric(df[\"Age\"], errors=\"coerce\")\n",
    "\n",
    "# Convert 'Date' to datetime\n",
    "df[\"Date\"] = pd.to_datetime(df[\"Date\"], errors=\"coerce\")\n",
    "\n",
    "# Drop any remaining NaN values\n",
    "df = df.dropna()\n",
    "\n",
    "# Confirm data types\n",
    "df.info()"
   ]
  },
  {
   "cell_type": "markdown",
   "id": "534eb575",
   "metadata": {},
   "source": [
    "## Exploratory Data Analysis(EDA)"
   ]
  },
  {
   "cell_type": "markdown",
   "id": "0b27c351",
   "metadata": {},
   "source": [
    "### Monthly Sales Trend"
   ]
  },
  {
   "cell_type": "code",
   "execution_count": null,
   "id": "d2f5ee5a",
   "metadata": {},
   "outputs": [],
   "source": [
    "# Extract the month and count the number of sales per month\n",
    "df[\"Month\"] = df[\"Date\"].dt.strftime(\"%Y-%m\")  # Format as YYYY-MM for clarity\n",
    "\n",
    "# Count the number of sales per month\n",
    "monthly_sales = df.groupby(\"Month\").size()\n",
    "print(monthly_sales)"
   ]
  },
  {
   "cell_type": "code",
   "execution_count": null,
   "id": "5e873632",
   "metadata": {},
   "outputs": [],
   "source": [
    "df[\"Month\"] = df[\"Date\"].dt.to_period(\"M\")\n",
    "\n",
    "plt.figure(figsize=(10,5))\n",
    "df.groupby(\"Month\").size().plot(kind=\"line\", marker=\"o\", color=\"blue\")\n",
    "\n",
    "plt.title(\"Monthly Sales Trend\")\n",
    "plt.xlabel(\"Month\")\n",
    "plt.ylabel(\"Number of Sales\")\n",
    "plt.grid(True)\n",
    "plt.show()"
   ]
  },
  {
   "cell_type": "markdown",
   "id": "68e6546f",
   "metadata": {},
   "source": [
    "### Sales Distribution by Customer Location"
   ]
  },
  {
   "cell_type": "code",
   "execution_count": null,
   "id": "54759cfb",
   "metadata": {},
   "outputs": [],
   "source": [
    "# Count of sales by Customer location(Numerical Breakdown)\n",
    "location_sales = df[\"Cus. Location\"].value_counts()\n",
    "print(location_sales)"
   ]
  },
  {
   "cell_type": "code",
   "execution_count": null,
   "id": "e756b183",
   "metadata": {},
   "outputs": [],
   "source": [
    "plt.figure(figsize=(6,5))\n",
    "sns.countplot(x=df[\"Cus. Location\"], palette=\"coolwarm\", order=df[\"Cus. Location\"].value_counts().index)\n",
    "\n",
    "plt.title(\"Sales by Customer Location\")\n",
    "plt.xlabel(\"Customer Location\")\n",
    "plt.ylabel(\"Number of Sales\")\n",
    "plt.xticks(rotation=45)\n",
    "plt.show()"
   ]
  },
  {
   "cell_type": "markdown",
   "id": "8e6ed079",
   "metadata": {},
   "source": [
    "### Age Distribution of Customers"
   ]
  },
  {
   "cell_type": "code",
   "execution_count": null,
   "id": "20cfb35f",
   "metadata": {},
   "outputs": [],
   "source": [
    "# Age distribution of customers(Numerical Breakdown)\n",
    "age_stats = df[\"Age\"].describe()\n",
    "print(age_stats)"
   ]
  },
  {
   "cell_type": "code",
   "execution_count": null,
   "id": "f7099ac9",
   "metadata": {},
   "outputs": [],
   "source": [
    "plt.figure(figsize=(8,5))\n",
    "sns.histplot(df[\"Age\"], bins=20, kde=True, color=\"skyblue\")\n",
    "\n",
    "plt.title(\"Age Distribution of Customers\")\n",
    "plt.xlabel(\"Age\")\n",
    "plt.ylabel(\"Count\")\n",
    "plt.grid(True)\n",
    "plt.show()"
   ]
  },
  {
   "cell_type": "markdown",
   "id": "a8a872b9",
   "metadata": {},
   "source": [
    "### Gender Distribution of Buyers"
   ]
  },
  {
   "cell_type": "code",
   "execution_count": null,
   "id": "284ecb0b",
   "metadata": {},
   "outputs": [],
   "source": [
    "# Count of sales by gender(Numerical Breakdown)\n",
    "gender_sales = df[\"Gender\"].value_counts()\n",
    "print(gender_sales)"
   ]
  },
  {
   "cell_type": "code",
   "execution_count": null,
   "id": "748ce732",
   "metadata": {},
   "outputs": [],
   "source": [
    "plt.figure(figsize=(6,6))\n",
    "df[\"Gender\"].value_counts().plot.pie(autopct=\"%1.1f%%\", colors=[\"lightblue\", \"lightcoral\"])\n",
    "plt.title(\"Gender Distribution of Buyers\")\n",
    "plt.ylabel(\"\")  # Hide y-label\n",
    "plt.show()"
   ]
  },
  {
   "cell_type": "markdown",
   "id": "e8c6d371",
   "metadata": {},
   "source": [
    "### Top 10 Most Sold Mobile Names"
   ]
  },
  {
   "cell_type": "code",
   "execution_count": null,
   "id": "d85bb290",
   "metadata": {},
   "outputs": [],
   "source": [
    "# Top 10 most sold mobile models(Numerical Breakdown)\n",
    "top_10_mobiles = df[\"Mobile Name\"].value_counts().nlargest(10)\n",
    "print(top_10_mobiles)"
   ]
  },
  {
   "cell_type": "code",
   "execution_count": null,
   "id": "2d80cd4b",
   "metadata": {},
   "outputs": [],
   "source": [
    "plt.figure(figsize=(10,5))\n",
    "\n",
    "top_mobiles = df[\"Mobile Name\"].value_counts().nlargest(10)\n",
    "sns.barplot(x=top_mobiles.index, y=top_mobiles.values, palette=\"coolwarm\")\n",
    "\n",
    "plt.title(\"Top 10 Most Sold Mobile Names\")\n",
    "plt.xlabel(\"Mobile Name\")\n",
    "plt.ylabel(\"Number of Units Sold\")\n",
    "plt.xticks(rotation=45)\n",
    "plt.show()"
   ]
  },
  {
   "cell_type": "markdown",
   "id": "0c044d86",
   "metadata": {},
   "source": [
    "### Sales Price Distribution"
   ]
  },
  {
   "cell_type": "code",
   "execution_count": null,
   "id": "f42a9f6f",
   "metadata": {},
   "outputs": [],
   "source": [
    "# Statistics on selling price(Numerical Breakdown)\n",
    "price_stats = df[\"Sell Price\"].describe()\n",
    "print(price_stats)"
   ]
  },
  {
   "cell_type": "code",
   "execution_count": null,
   "id": "bd88b459",
   "metadata": {},
   "outputs": [],
   "source": [
    "plt.figure(figsize=(8,5))\n",
    "sns.boxplot(x=df[\"Sell Price\"], color=\"lightcoral\")\n",
    "\n",
    "plt.title(\"Sales Price Distribution\")\n",
    "plt.xlabel(\"Sell Price (BDT)\")\n",
    "plt.show()"
   ]
  },
  {
   "cell_type": "markdown",
   "id": "1a4e17f3",
   "metadata": {},
   "source": [
    "### Facebook Marketing Effectiveness"
   ]
  },
  {
   "cell_type": "code",
   "execution_count": null,
   "id": "7c858436",
   "metadata": {},
   "outputs": [],
   "source": [
    "# Count of customers who came from facebook(Numerical Breakdown)\n",
    "facebook_effectiveness = df[\"Does he/she Come from Facebook Page?\"].value_counts()\n",
    "print(facebook_effectiveness)"
   ]
  },
  {
   "cell_type": "code",
   "execution_count": null,
   "id": "82ab7a93",
   "metadata": {},
   "outputs": [],
   "source": [
    "plt.figure(figsize=(4,4))\n",
    "sns.countplot(x=df[\"Does he/she Come from Facebook Page?\"], palette=\"muted\")\n",
    "\n",
    "plt.title(\"Facebook Marketing Effectiveness\")\n",
    "plt.xlabel(\"Came from Facebook?\")\n",
    "plt.ylabel(\"Count\")\n",
    "plt.show()"
   ]
  },
  {
   "cell_type": "markdown",
   "id": "17acbb09",
   "metadata": {},
   "source": [
    "### New vs Returning Customers"
   ]
  },
  {
   "cell_type": "code",
   "execution_count": null,
   "id": "5695ab96",
   "metadata": {},
   "outputs": [],
   "source": [
    "# count New vs Returning Customers(Numerical Breakdown)\n",
    "returning_customers = df[\"Did he/she buy any mobile before?\"].value_counts()\n",
    "print(returning_customers)"
   ]
  },
  {
   "cell_type": "code",
   "execution_count": null,
   "id": "d2d9f877",
   "metadata": {},
   "outputs": [],
   "source": [
    "plt.figure(figsize=(4,4))\n",
    "sns.countplot(x=df[\"Did he/she buy any mobile before?\"], palette=\"pastel\")\n",
    "\n",
    "plt.title(\"New vs. Returning Customers\")\n",
    "plt.xlabel(\"Returning Customer?\")\n",
    "plt.ylabel(\"Count\")\n",
    "plt.show()"
   ]
  },
  {
   "cell_type": "code",
   "execution_count": null,
   "id": "c119d4c3",
   "metadata": {},
   "outputs": [],
   "source": [
    "# Distribution of customers following the facebook page (Numerical Breakdown)\n",
    "facebook_page = df[\"Does he/she Followed Our Page?\"].value_counts()\n",
    "print(facebook_page)"
   ]
  },
  {
   "cell_type": "code",
   "execution_count": null,
   "id": "00382252",
   "metadata": {},
   "outputs": [],
   "source": [
    "# Count of Facebook followers\n",
    "fb_follow_counts = df[\"Does he/she Followed Our Page?\"].value_counts()\n",
    "\n",
    "# Plot\n",
    "plt.figure(figsize=(4, 4))\n",
    "sns.barplot(x=fb_follow_counts.index, y=fb_follow_counts.values, palette=['#3B9C9C', '#F08080'])\n",
    "plt.title(\"Distribution of Customers Following the Facebook Page\")\n",
    "plt.xlabel(\"Follows Facebook Page\")\n",
    "plt.ylabel(\"Number of Customers\")\n",
    "plt.tight_layout()\n",
    "plt.show()"
   ]
  },
  {
   "cell_type": "markdown",
   "id": "44f0334d",
   "metadata": {},
   "source": [
    "## Conclusion\n",
    "\n",
    "The analysis shows:\n",
    "- A steady increase in monthly sales.\n",
    "- Customers are spread fairly evenly across locations, with a strong presence beyond Rangamati.\n",
    "- Most buyers are between 26-42 years old, with balanced gender representation.\n",
    "- Budget 5G and premium phones are both popular.\n",
    "- Facebook marketing has a positive influence on customer engagement.\n",
    "- A healthy number of returning customers suggests good customer retention.\n",
    "\n",
    "**Recommendation:** Continue focusing on the mid-range and premium segments while optimizing digital marketing efforts."
   ]
  }
 ],
 "metadata": {
  "kernelspec": {
   "display_name": "Python 3 (ipykernel)",
   "language": "python",
   "name": "python3"
  },
  "language_info": {
   "codemirror_mode": {
    "name": "ipython",
    "version": 3
   },
   "file_extension": ".py",
   "mimetype": "text/x-python",
   "name": "python",
   "nbconvert_exporter": "python",
   "pygments_lexer": "ipython3",
   "version": "3.12.7"
  }
 },
 "nbformat": 4,
 "nbformat_minor": 5
}
